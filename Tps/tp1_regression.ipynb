{
 "cells": [
  {
   "cell_type": "markdown",
   "id": "298f8e35",
   "metadata": {},
   "source": [
    "# TP 1: Introduction to Regression for Network Data Analysis"
   ]
  },
  {
   "cell_type": "markdown",
   "id": "6294b883",
   "metadata": {},
   "source": [
    "## Supervised Learning: A Quick Recap\n",
    "\n",
    "Supervised learning is a type of machine learning where we **train a model using labeled data**.  \n",
    "\n",
    "That means each data point has:\n",
    "- An **input** (also called features)\n",
    "- A known **output** (label or value)\n",
    "\n",
    "The goal is to teach the model how to map inputs to outputs so it can make accurate predictions on unseen data.\n",
    "\n",
    "There are two main types of supervised learning:\n",
    "- **Classification**: It is used when the output is a **category or class**. In classification, the model picks a **label** from a fixed set of possible answers. (e.g. Is a network connection **normal** or **malicious**?)\n",
    "- **Regression**: It is used when the output is a **number (a continuous value)**. \n",
    "In regression, the model tries to learn a formula that outputs a number — not a category. (e.g. Estimating **download time** based on file size)\n"
   ]
  },
  {
   "cell_type": "markdown",
   "id": "c4338358",
   "metadata": {},
   "source": [
    "## 📝 Exercise 1: Simple Linear Regression"
   ]
  },
  {
   "cell_type": "markdown",
   "id": "1d4b540b",
   "metadata": {},
   "source": [
    "In this first exercise, we will explore **linear regression models**, starting with a simple case where we model an output variable $y$ as a linear function of a single input feature $x$."
   ]
  },
  {
   "cell_type": "markdown",
   "id": "538d6156",
   "metadata": {},
   "source": [
    "We will work with linear models of the form:  $y = \\beta_0+\\beta_1 x + \\epsilon$\n",
    "\n",
    "where:\n",
    "- $\\beta_0$: the **intercept** (value of $y$ when $x = 0$)  \n",
    "- $\\beta_1$: the **slope** (how much $y$ changes for a one-unit increase in $x$)  \n",
    "- $\\epsilon$: a **random error term** that accounts for noise or variability not explained by the linear relationship\n",
    "\n",
    "This setup is the foundation of a **linear regression model**.\n",
    "\n",
    "We assume that the random error term $\\epsilon$ follows a **normal distribution** $\\epsilon \\sim \\mathcal{N}(0,\\sigma^2)$ where:\n",
    "\n",
    "- The **mean** of the noise is zero.\n",
    "- The **variance** of the noise is $\\sigma^2$, so the standard deviation is $\\sigma$.\n",
    "- The noise is **independent** of $x$, and each observation is **i.i.d.** (independent and identically distributed).\n",
    "\n",
    "As a means of example, let us consider the linear model: $y=b_0+b_1x+\\epsilon$\n",
    "\n",
    "with:\n",
    "- $b_0 = 2$ (intercept)\n",
    "- $b_1 = 3$ (slope)\n",
    "- $\\sigma = 30$ (standard deviation of the noise)\n",
    "\n",
    "Note that at the end of the example, you can experiment with different values to your own choice to see how they affect the data and the fitted model.\n",
    "\n",
    "In this case:\n",
    "- $y$ is the value we **observe or measure** when the input feature takes the value $x$.\n",
    "- The **sample size** (i.e., number of data points) is denoted by $n$."
   ]
  },
  {
   "cell_type": "markdown",
   "id": "c9b576f7",
   "metadata": {},
   "source": [
    "### Preparation: Generating \"Synthetic Data\""
   ]
  },
  {
   "cell_type": "markdown",
   "id": "21f1ea30",
   "metadata": {},
   "source": [
    "#### Step 1: Import Required Libraries\n",
    "\n",
    "First, let's import the necessary libraries for data manipulation, visualization and regression modeling."
   ]
  },
  {
   "cell_type": "code",
   "execution_count": 2,
   "id": "980a83f2",
   "metadata": {},
   "outputs": [],
   "source": [
    "# Import necessary libraries\n",
    "import matplotlib.pyplot as plt\n",
    "import numpy as np\n",
    "import pandas as pd\n",
    "import math\n",
    "import random\n",
    "import statsmodels.api as sm\n",
    "from sklearn import datasets, linear_model"
   ]
  },
  {
   "cell_type": "markdown",
   "id": "88237499",
   "metadata": {},
   "source": [
    "We define the true underlying parameters of the linear model and the sample size to simulate synthetic data for regression analysis.\n"
   ]
  },
  {
   "cell_type": "code",
   "execution_count": 3,
   "id": "04f336ca",
   "metadata": {},
   "outputs": [],
   "source": [
    "# Define parameters for synthetic data generation\n",
    "n = 20 # sample size\n",
    "b0 = 2 # real intercept (unobserved)\n",
    "b1 = np.array([3]) # real slope (unobserved)"
   ]
  },
  {
   "cell_type": "markdown",
   "id": "48a7842c",
   "metadata": {},
   "source": [
    "Now, to simulate data for our linear model $y = \\beta_0 + \\beta_1 x + \\epsilon$, we’ll follow these steps:"
   ]
  },
  {
   "cell_type": "markdown",
   "id": "0e0729ce",
   "metadata": {},
   "source": [
    "#### Step 2: Define the Random Error Term ($\\epsilon$)\n",
    "\n",
    "The error term $\\epsilon$ represents random noise in the data. It is sampled from a normal distribution with a specified mean and standard deviation.\n"
   ]
  },
  {
   "cell_type": "code",
   "execution_count": 4,
   "id": "4edeea05",
   "metadata": {},
   "outputs": [
    {
     "name": "stdout",
     "output_type": "stream",
     "text": [
      "Error vector (Er): [ 33.24214448  -9.66833454  68.66231565 -55.3634741  -46.02241369\n",
      "  32.69834474  36.28414203  -8.77906033 -28.89190806   6.07129635\n",
      "  48.70306245 -69.33409712  31.09989668  70.21805685  -6.69218164\n",
      " -19.60951679  24.44625946 -12.92376476  -0.37686216  39.06455214]\n"
     ]
    }
   ],
   "source": [
    "# Mean and standard deviation for the error term\n",
    "mue, sigmae = 0, 30\n",
    "\n",
    "# Set a random seed to make results reproducible, \n",
    "# if you want to fix a 'random' vector and not have different vectors per call:\n",
    "np.random.seed(199)\n",
    "\n",
    "# Generate the error vector Er of size n\n",
    "Er = np.random.normal(mue, sigmae, n)\n",
    "print(\"Error vector (Er):\", Er)"
   ]
  },
  {
   "cell_type": "markdown",
   "id": "d43058f1",
   "metadata": {},
   "source": [
    "#### Step 3: Generate the Feature Input ($x$)"
   ]
  },
  {
   "cell_type": "markdown",
   "id": "8d909d17",
   "metadata": {},
   "source": [
    "We assume that $x$, our input feature, lies within an interval $[xl, xh]$. We randomly sample $n$ values from this range using a uniform distribution."
   ]
  },
  {
   "cell_type": "code",
   "execution_count": 5,
   "id": "359798d2",
   "metadata": {},
   "outputs": [
    {
     "name": "stdout",
     "output_type": "stream",
     "text": [
      "Input feature vector (x): [ 78.57500336 117.84471417  47.98856377 101.29831222  55.66108205\n",
      "  65.38116798  74.337341    39.82041465 117.71944956  31.32134616\n",
      " 112.80089673   5.39719021  50.41908488  99.59823395  69.68557585\n",
      "  13.90856407  13.01791564 107.00400554  53.31687507  64.69449614]\n"
     ]
    }
   ],
   "source": [
    "# Define bounds for x\n",
    "xl, xh = 0, 120\n",
    "\n",
    "# Fixing seed again\n",
    "np.random.seed(199)\n",
    "\n",
    "# Generate n values of x uniformly between xl and xh\n",
    "x = np.random.uniform(xl,xh,n)\n",
    "print(\"Input feature vector (x):\", x)"
   ]
  },
  {
   "cell_type": "markdown",
   "id": "eb779802",
   "metadata": {},
   "source": [
    "#### Step 4: Compute the Output Variable ($y$)"
   ]
  },
  {
   "cell_type": "markdown",
   "id": "f24b3d60",
   "metadata": {},
   "source": [
    "Using the linear model and the generated values of n-sized vectors Er and x, we compute the corresponding values of y."
   ]
  },
  {
   "cell_type": "code",
   "execution_count": 6,
   "id": "1ca9ed2d",
   "metadata": {},
   "outputs": [
    {
     "name": "stdout",
     "output_type": "stream",
     "text": [
      "Output variable (y): [270.96715455 345.86580798 214.62800697 250.53146256 122.96083245\n",
      " 230.84184868 261.29616502 112.6821836  326.26644061 102.03533484\n",
      " 389.10575263 -51.1425265  184.35715132 371.01275871 204.36454591\n",
      "  24.11617543  65.50000638 310.08825187 161.57376303 235.14804055]\n"
     ]
    }
   ],
   "source": [
    "# Compute y using the model\n",
    "y = b0 + b1[0] * x + Er\n",
    "print(\"Output variable (y):\", y)"
   ]
  },
  {
   "cell_type": "markdown",
   "id": "eae26401",
   "metadata": {},
   "source": [
    "#### Step 5: Visualize the Data"
   ]
  },
  {
   "cell_type": "markdown",
   "id": "305c34b1",
   "metadata": {},
   "source": [
    "Let us plot the line $y=2+3x$ (without noise) as well as the generated points $y$ that include the error."
   ]
  },
  {
   "cell_type": "code",
   "execution_count": 7,
   "id": "b93f054a",
   "metadata": {},
   "outputs": [
    {
     "data": {
      "image/png": "[encoded data removed]",
      "text/plain": [
       "<Figure size 800x500 with 1 Axes>"
      ]
     },
     "metadata": {},
     "output_type": "display_data"
    }
   ],
   "source": [
    "plt.figure(figsize=(8, 5))\n",
    "\n",
    "plt.plot(x, y, 'o', color='blue', label='Simulated data')\n",
    "plt.plot(x, b0+b1*x, color='orange',  label='Line: $y = 2 + 3x$')\n",
    "\n",
    "plt.xlabel(\"x\")\n",
    "plt.ylabel(\"y\")\n",
    "plt.legend()\n",
    "plt.title(\"Linear Model with Noise\")\n",
    "plt.grid(True)\n",
    "plt.show()"
   ]
  },
  {
   "cell_type": "markdown",
   "id": "c4d8aedf",
   "metadata": {},
   "source": [
    "#### Step 6: Wrap It Up Into a Function"
   ]
  },
  {
   "cell_type": "markdown",
   "id": "95bc2144",
   "metadata": {},
   "source": [
    "To make the data generation process reusable, we define the function `genSample()` that creates synthetic data for both **simple** and **multiple linear regression** tasks.\n",
    "\n",
    "- The function accepts a `seed` parameter:\n",
    "  - If `seed` is set to an **integer**, the random values are reproducible — the same `x`, `y`, and `Er` vectors are generated every time.\n",
    "  - If `seed` is left **empty**, the random values change with each call.\n",
    "\n",
    "\n",
    "- The `size` parameter controls the number of features in the input vector `x`:\n",
    "  - If `size = 1`, it generates data for **simple linear regression** (one feature).\n",
    "  - If `size > 1`, it produces inputs for **multiple linear regression** (multiple features).\n",
    "\n",
    "This structure allows you to generate controlled or randomized data for different types of regression experiments. Keep in mind that this process will be needed for later TP sessions."
   ]
  },
  {
   "cell_type": "code",
   "execution_count": 8,
   "id": "9f5dafaf",
   "metadata": {},
   "outputs": [],
   "source": [
    "def genSample(n, b0, b1, sigmae, xLow, xHigh, seedit=199, size=1):\n",
    "    if type(seedit) == int:\n",
    "        np.random.seed(seedit)\n",
    "        Er = np.random.normal(mue, sigmae, n)\n",
    "        x = []\n",
    "        for k in range(size):\n",
    "            np.random.seed(seedit + k)\n",
    "            x.append(np.random.uniform(xl, xh, n))\n",
    "    else:\n",
    "        np.random.seed()\n",
    "        Er = np.random.normal(mue, sigmae, n)\n",
    "        x = []\n",
    "        for k in range(size):\n",
    "            np.random.seed()\n",
    "            x.append(np.random.uniform(xl, xh, n))\n",
    "        \n",
    "    # Compute y\n",
    "    y = b0 + Er\n",
    "    for k in range(size):\n",
    "        y += b1[k] * x[k]\n",
    "\n",
    "    # Output\n",
    "    if size == 1:\n",
    "        return (x[0], y, Er)\n",
    "    else:\n",
    "        return (x, y, Er)"
   ]
  },
  {
   "cell_type": "code",
   "execution_count": 9,
   "id": "f00c5eaa",
   "metadata": {},
   "outputs": [
    {
     "name": "stdout",
     "output_type": "stream",
     "text": [
      "x =  [ 78.57500336 117.84471417  47.98856377 101.29831222  55.66108205\n",
      "  65.38116798  74.337341    39.82041465 117.71944956  31.32134616\n",
      " 112.80089673   5.39719021  50.41908488  99.59823395  69.68557585\n",
      "  13.90856407  13.01791564 107.00400554  53.31687507  64.69449614]\n",
      "y =  [270.96715455 345.86580798 214.62800697 250.53146256 122.96083245\n",
      " 230.84184868 261.29616502 112.6821836  326.26644061 102.03533484\n",
      " 389.10575263 -51.1425265  184.35715132 371.01275871 204.36454591\n",
      "  24.11617543  65.50000638 310.08825187 161.57376303 235.14804055]\n",
      "Er =  [ 33.24214448  -9.66833454  68.66231565 -55.3634741  -46.02241369\n",
      "  32.69834474  36.28414203  -8.77906033 -28.89190806   6.07129635\n",
      "  48.70306245 -69.33409712  31.09989668  70.21805685  -6.69218164\n",
      " -19.60951679  24.44625946 -12.92376476  -0.37686216  39.06455214]\n"
     ]
    }
   ],
   "source": [
    "# Generate synthetic data\n",
    "n, b0, b1 = 20, 2, np.array([3])                                                                                                                                                                                                                                                                                                                                                                                                                                                                                    \n",
    "(x, y, Er) = genSample(n, b0, b1, sigmae, xl, xh, seedit=199, size=1)\n",
    "print(\"x = \", x)\n",
    "print(\"y = \", y)\n",
    "print(\"Er = \", Er)"
   ]
  },
  {
   "cell_type": "code",
   "execution_count": 10,
   "id": "a15fb2bd",
   "metadata": {},
   "outputs": [
    {
     "data": {
      "text/html": [
       "<div>\n",
       "<style scoped>\n",
       "    .dataframe tbody tr th:only-of-type {\n",
       "        vertical-align: middle;\n",
       "    }\n",
       "\n",
       "    .dataframe tbody tr th {\n",
       "        vertical-align: top;\n",
       "    }\n",
       "\n",
       "    .dataframe thead th {\n",
       "        text-align: right;\n",
       "    }\n",
       "</style>\n",
       "<table border=\"1\" class=\"dataframe\">\n",
       "  <thead>\n",
       "    <tr style=\"text-align: right;\">\n",
       "      <th></th>\n",
       "      <th>x</th>\n",
       "      <th>y</th>\n",
       "      <th>error</th>\n",
       "    </tr>\n",
       "  </thead>\n",
       "  <tbody>\n",
       "    <tr>\n",
       "      <th>0</th>\n",
       "      <td>78.575003</td>\n",
       "      <td>270.967155</td>\n",
       "      <td>33.242144</td>\n",
       "    </tr>\n",
       "    <tr>\n",
       "      <th>1</th>\n",
       "      <td>117.844714</td>\n",
       "      <td>345.865808</td>\n",
       "      <td>-9.668335</td>\n",
       "    </tr>\n",
       "    <tr>\n",
       "      <th>2</th>\n",
       "      <td>47.988564</td>\n",
       "      <td>214.628007</td>\n",
       "      <td>68.662316</td>\n",
       "    </tr>\n",
       "    <tr>\n",
       "      <th>3</th>\n",
       "      <td>101.298312</td>\n",
       "      <td>250.531463</td>\n",
       "      <td>-55.363474</td>\n",
       "    </tr>\n",
       "    <tr>\n",
       "      <th>4</th>\n",
       "      <td>55.661082</td>\n",
       "      <td>122.960832</td>\n",
       "      <td>-46.022414</td>\n",
       "    </tr>\n",
       "    <tr>\n",
       "      <th>5</th>\n",
       "      <td>65.381168</td>\n",
       "      <td>230.841849</td>\n",
       "      <td>32.698345</td>\n",
       "    </tr>\n",
       "    <tr>\n",
       "      <th>6</th>\n",
       "      <td>74.337341</td>\n",
       "      <td>261.296165</td>\n",
       "      <td>36.284142</td>\n",
       "    </tr>\n",
       "    <tr>\n",
       "      <th>7</th>\n",
       "      <td>39.820415</td>\n",
       "      <td>112.682184</td>\n",
       "      <td>-8.779060</td>\n",
       "    </tr>\n",
       "    <tr>\n",
       "      <th>8</th>\n",
       "      <td>117.719450</td>\n",
       "      <td>326.266441</td>\n",
       "      <td>-28.891908</td>\n",
       "    </tr>\n",
       "    <tr>\n",
       "      <th>9</th>\n",
       "      <td>31.321346</td>\n",
       "      <td>102.035335</td>\n",
       "      <td>6.071296</td>\n",
       "    </tr>\n",
       "    <tr>\n",
       "      <th>10</th>\n",
       "      <td>112.800897</td>\n",
       "      <td>389.105753</td>\n",
       "      <td>48.703062</td>\n",
       "    </tr>\n",
       "    <tr>\n",
       "      <th>11</th>\n",
       "      <td>5.397190</td>\n",
       "      <td>-51.142527</td>\n",
       "      <td>-69.334097</td>\n",
       "    </tr>\n",
       "    <tr>\n",
       "      <th>12</th>\n",
       "      <td>50.419085</td>\n",
       "      <td>184.357151</td>\n",
       "      <td>31.099897</td>\n",
       "    </tr>\n",
       "    <tr>\n",
       "      <th>13</th>\n",
       "      <td>99.598234</td>\n",
       "      <td>371.012759</td>\n",
       "      <td>70.218057</td>\n",
       "    </tr>\n",
       "    <tr>\n",
       "      <th>14</th>\n",
       "      <td>69.685576</td>\n",
       "      <td>204.364546</td>\n",
       "      <td>-6.692182</td>\n",
       "    </tr>\n",
       "    <tr>\n",
       "      <th>15</th>\n",
       "      <td>13.908564</td>\n",
       "      <td>24.116175</td>\n",
       "      <td>-19.609517</td>\n",
       "    </tr>\n",
       "    <tr>\n",
       "      <th>16</th>\n",
       "      <td>13.017916</td>\n",
       "      <td>65.500006</td>\n",
       "      <td>24.446259</td>\n",
       "    </tr>\n",
       "    <tr>\n",
       "      <th>17</th>\n",
       "      <td>107.004006</td>\n",
       "      <td>310.088252</td>\n",
       "      <td>-12.923765</td>\n",
       "    </tr>\n",
       "    <tr>\n",
       "      <th>18</th>\n",
       "      <td>53.316875</td>\n",
       "      <td>161.573763</td>\n",
       "      <td>-0.376862</td>\n",
       "    </tr>\n",
       "    <tr>\n",
       "      <th>19</th>\n",
       "      <td>64.694496</td>\n",
       "      <td>235.148041</td>\n",
       "      <td>39.064552</td>\n",
       "    </tr>\n",
       "  </tbody>\n",
       "</table>\n",
       "</div>"
      ],
      "text/plain": [
       "             x           y      error\n",
       "0    78.575003  270.967155  33.242144\n",
       "1   117.844714  345.865808  -9.668335\n",
       "2    47.988564  214.628007  68.662316\n",
       "3   101.298312  250.531463 -55.363474\n",
       "4    55.661082  122.960832 -46.022414\n",
       "5    65.381168  230.841849  32.698345\n",
       "6    74.337341  261.296165  36.284142\n",
       "7    39.820415  112.682184  -8.779060\n",
       "8   117.719450  326.266441 -28.891908\n",
       "9    31.321346  102.035335   6.071296\n",
       "10  112.800897  389.105753  48.703062\n",
       "11    5.397190  -51.142527 -69.334097\n",
       "12   50.419085  184.357151  31.099897\n",
       "13   99.598234  371.012759  70.218057\n",
       "14   69.685576  204.364546  -6.692182\n",
       "15   13.908564   24.116175 -19.609517\n",
       "16   13.017916   65.500006  24.446259\n",
       "17  107.004006  310.088252 -12.923765\n",
       "18   53.316875  161.573763  -0.376862\n",
       "19   64.694496  235.148041  39.064552"
      ]
     },
     "execution_count": 10,
     "metadata": {},
     "output_type": "execute_result"
    }
   ],
   "source": [
    "# Create a pandas DataFrame and put the x, Er, y vectors\n",
    "df_slr = pd.DataFrame({'x': x, 'y': y, 'error': Er})\n",
    "df_slr"
   ]
  },
  {
   "cell_type": "markdown",
   "id": "e55c2ab3",
   "metadata": {},
   "source": [
    "### Part A: Analyzing synthetic data\n",
    "\n",
    "In this part, you will analyze the synthetic dataset you generated using basic statistical tools and linear regression formulas.\n",
    "\n",
    "You may use either `numPy` or `pandas` for your calculations.\n",
    "\n",
    "With the above synthetic data: \n",
    "\n",
    "* a) Compute the sample means $\\bar{x}$, $\\bar{y}$ and the sample variance $s_{xx}$ and covariance $s_{xy}$ .\n",
    "\n",
    "* b) Using the formulas presented in the lecture, calculate the estimated coefficients of the least-squares line: $\\hat{y}=\\hat{\\beta}_0+\\hat{\\beta}_1x$. Compare your estimated coefficients with the **true values** used to generate the data: $(\\beta_0,\\beta_1)=(2,3)$ What do you observe? How close are they? What could explain any differences?\n",
    "\n",
    "* c) Plot the regression line, least-squares line and the data samples on the same graph. Use appropriate labels and a legend to clearly distinguish each line and the data points.\n",
    "\n",
    "**Optional:** You can later compare your results with those from `scikit-learn` implementation of simple linear regression."
   ]
  },
  {
   "cell_type": "markdown",
   "id": "3d41484c",
   "metadata": {},
   "source": [
    "#### Answer:"
   ]
  },
  {
   "cell_type": "code",
   "execution_count": 11,
   "id": "54ba7c91",
   "metadata": {},
   "outputs": [
    {
     "name": "stdout",
     "output_type": "stream",
     "text": [
      " mean x :  65.98951164926079\n",
      " mean y : 206.60995782891467\n",
      " variance x : 1250.9885169632728\n",
      " covariance XY : 3936.735127987621 \n",
      " Bêta one : 3.1468994915667943\n",
      " Bêta zero : -1.052402828885164\n"
     ]
    },
    {
     "data": {
      "image/png": "[encoded data removed]",
      "text/plain": [
       "<Figure size 800x500 with 1 Axes>"
      ]
     },
     "metadata": {},
     "output_type": "display_data"
    }
   ],
   "source": [
    "## TODO:\n",
    "\n",
    "#Question A : \n",
    "\n",
    "x_mean = np.mean(x)\n",
    "y_mean = np.mean(y)\n",
    "s_xx = np.var(x,ddof=1)\n",
    "s_xy = np.cov(x,y)[0,1]\n",
    "\n",
    "print(f\" mean x :  {x_mean}\")\n",
    "print(f\" mean y : {y_mean}\")\n",
    "print(f\" variance x : {s_xx}\")\n",
    "print(f\" covariance XY : {s_xy} \")\n",
    "\n",
    "\n",
    "#Question B : \n",
    "\n",
    "b1 = s_xy/s_xx \n",
    "print(f\" Bêta one : {b1}\")\n",
    "b0 = y_mean-(b1*x_mean)\n",
    "print(f\" Bêta zero : {b0}\")\n",
    "\n",
    "# The estimated and true beta₀ are a bit different, but very close.\n",
    "# random noise (ε) explains the difference.\n",
    "\n",
    "\n",
    "\n",
    "# Question C : \n",
    "\n",
    "plt.figure(figsize=(8, 5))\n",
    "\n",
    "plt.plot(x, y, 'o', color='blue', label='Simulated data')\n",
    "plt.plot(x, b0+b1*x, color='orange',  label='Line: $y = b0 + b1x$')\n",
    "\n",
    "plt.xlabel(\"x\")\n",
    "plt.ylabel(\"y\")\n",
    "plt.legend()\n",
    "plt.title(\"Linear Model\")\n",
    "plt.grid(True)\n",
    "plt.show()"
   ]
  },
  {
   "cell_type": "markdown",
   "id": "df463ae9",
   "metadata": {},
   "source": [
    "### Part B: Visualizing data distribution\n",
    "\n",
    "In this section, you'll explore the distribution of the input feature $x$ using visual tools. You can use either `matplotlib` or `pandas` for this part.\n",
    "\n",
    "* d) Create a boxplot of the variable $x$ to examine its distribution. This will help you identify the spread, central tendency and possible outliers.\n",
    "\n",
    "* e) Based on the boxplot, how would you describe the distribution of $x$? Symmetric, left-skewed, right-skewed or uniform?\n",
    "\n",
    "* f) What does the interquartile range (IQR) tell you about the spread of $x$ values?\n",
    "\n",
    "* g) Are there any outliers in the feature $x$ based on the boxplot? What would cause them to appear or not appear in a asynthetic dataset like this?"
   ]
  },
  {
   "cell_type": "markdown",
   "id": "94fd0a02",
   "metadata": {},
   "source": [
    "#### Answer:"
   ]
  },
  {
   "cell_type": "code",
   "execution_count": 12,
   "id": "0e303ca4",
   "metadata": {},
   "outputs": [
    {
     "data": {
      "image/png": "[encoded data removed]",
      "text/plain": [
       "<Figure size 640x480 with 1 Axes>"
      ]
     },
     "metadata": {},
     "output_type": "display_data"
    },
    {
     "name": "stdout",
     "output_type": "stream",
     "text": [
      "Q1 : 45.946526490918714\n",
      "Q3 : 100.02325351935816\n",
      "IQR : 54.07672702843945\n",
      "outliers : []\n"
     ]
    }
   ],
   "source": [
    "## TODO:\n",
    "\n",
    "#Question D : \n",
    "\n",
    "plt.boxplot(x)\n",
    "plt.title(\"boxplot of x\")\n",
    "plt.show()\n",
    "\n",
    "#Question E : \n",
    "\n",
    "# The distribution is left-skewed.\n",
    "\n",
    "#Question F : \n",
    "\n",
    "Q1 = np.percentile(x,25)\n",
    "Q3 = np.percentile(x,75)\n",
    "IQR = Q3-Q1 \n",
    "lower_bound = Q1 - 1.5 * IQR\n",
    "upper_bound = Q3 + 1.5 * IQR\n",
    "outliers = x[(x < lower_bound) | (x > upper_bound)]\n",
    "print(f\"Q1 : {Q1}\")\n",
    "print(f\"Q3 : {Q3}\")\n",
    "print(f\"IQR : {IQR}\")\n",
    "print(f\"outliers : {outliers}\")\n",
    "\n",
    "\n",
    "# With this we can validate the answer in the past question.most values are relatively high, with a few smaller values pulling the tail toward the left side.\n",
    "\n",
    "# QUestion G : \n",
    "# We don't have outliers here. Outliers appear if the distribution has heavy tails and not appear if the data is uniform."
   ]
  },
  {
   "cell_type": "markdown",
   "id": "2001ba9e",
   "metadata": {},
   "source": [
    "### Part C: Evaluating Model Accuracy\n",
    "\n",
    "In this section, you will assess how well your regression model fits the synthetic data using standard evaluation metrics. These metrics help quantify the accuracy and reliability of your predictions.\n",
    "\n",
    "* h) Compute the Residual Standard Error (RSE) and the Mean Squared Error (MSE). What do they tell about the accuracy of the model?\n",
    "\n",
    "* **Reminder:** The relationship between MSE and RSE is given by: $MSE := \\frac{1}{n}RSS = \\frac{n-2}{n}RSE^2$.\n",
    "\n",
    "* i) Compute the coefficient of determination ($R^2$-statistic). What does it tell about the accuracy of the model?\n",
    "\n",
    "* j) Calculate the $95\\%$ confidence intervals for the estimated coefficients. Do the real coefficients $\\beta_0=2$ and $\\beta_1=3$ fall within these intervals?\n",
    "\n",
    "**Optional:** You may compare your manually calculated metrics and intervals with those obtained using `scikit-learn`'s `LinearRegression` implementation."
   ]
  },
  {
   "cell_type": "markdown",
   "id": "ba53df52",
   "metadata": {},
   "source": [
    "#### Answer:"
   ]
  },
  {
   "cell_type": "code",
   "execution_count": 13,
   "id": "ea967bca",
   "metadata": {},
   "outputs": [
    {
     "name": "stdout",
     "output_type": "stream",
     "text": [
      "RSS : 28832.64282944977\n",
      "MSE : 1441.6321414724887\n",
      "R_square : 0.8908740377860237\n",
      "95% CI for b1: (2.6380860418081027, 3.655712941325486)\n",
      "95% CI for b0: (-38.93442609119416, 36.829620433423834)\n",
      "b1_true = 3, b0_true = 2\n",
      "Does b1_true fall in CI? True\n",
      "Does b0_true fall in CI? True\n"
     ]
    }
   ],
   "source": [
    "## TODO :\n",
    "\n",
    "# QUestion H : \n",
    "# RSE \n",
    "y_pred = b0+b1*x\n",
    "errors = y-y_pred\n",
    "rss = np.sum(errors**2)\n",
    "print(f\"RSS : {rss}\")\n",
    "\n",
    "#MSE \n",
    "mse = (1/len(x))*rss\n",
    "print(f\"MSE : {mse}\")\n",
    "\n",
    "#Question I : \n",
    "tss = np.sum((y-y_mean)**2)\n",
    "R_square = 1 - (rss/tss)\n",
    "print(f\"R_square : {R_square}\")\n",
    "\n",
    "#R² is close to 1, the accuracy is great. \n",
    "\n",
    "#Question J : \n",
    "\n",
    "n = len(x)\n",
    "\n",
    "sigma2_hat = rss / (n - 2)\n",
    "\n",
    "Sxx = np.sum((x - x_mean)**2)\n",
    "\n",
    "se_b1 = np.sqrt(sigma2_hat / Sxx)\n",
    "se_b0 = np.sqrt(sigma2_hat * (1/n + x_mean**2 / Sxx))\n",
    "\n",
    "z_crit = 1.96  # 95% confidence\n",
    "\n",
    "ci_b1 = (b1 - z_crit*se_b1, b1 + z_crit*se_b1)\n",
    "ci_b0 = (b0 - z_crit*se_b0, b0 + z_crit*se_b0)\n",
    "\n",
    "print(f\"95% CI for b1: ({float(ci_b1[0])}, {float(ci_b1[1])})\")\n",
    "print(f\"95% CI for b0: ({float(ci_b0[0])}, {float(ci_b0[1])})\")\n",
    "\n",
    "b1_true = 3\n",
    "b0_true = 2\n",
    "\n",
    "print(f\"b1_true = {b1_true}, b0_true = {b0_true}\")\n",
    "\n",
    "print(\"Does b1_true fall in CI?\", ci_b1[0] <= b1_true <= ci_b1[1])\n",
    "print(\"Does b0_true fall in CI?\", ci_b0[0] <= b0_true <= ci_b0[1])"
   ]
  },
  {
   "cell_type": "markdown",
   "id": "4ded0904",
   "metadata": {},
   "source": [
    "## 📝 Exercise 2: Multiple Linear Regression"
   ]
  },
  {
   "cell_type": "markdown",
   "id": "c73a411b",
   "metadata": {},
   "source": [
    "In this exercise, we will extend simple linear regression to a **multi-variable setting**. Specifically, we work on problems of multi-linear regression with multiple input features and examine how each input feature contributes to predicting the output variable."
   ]
  },
  {
   "cell_type": "markdown",
   "id": "a1026e8e",
   "metadata": {},
   "source": [
    "We work with a multiple linear regression model using 4 input features. \n",
    "\n",
    "The regression model is: $y = \\beta_0 + \\beta_1x_1 + \\beta_2x_2 + \\beta_3x_3 + \\beta_4x_4 + \\epsilon$\n",
    "\n",
    "where:\n",
    "- $x_1$, $x_2$, $x_3$ are features that influence $y$\n",
    "- $x_4$ is constructed as noise: $x_4=np.ones(n)+Er$, meaning it should not have any true effect on the target $y$."
   ]
  },
  {
   "cell_type": "markdown",
   "id": "b1dcca25",
   "metadata": {},
   "source": [
    "### Step 1: Generate Synthetic Data\n",
    "\n",
    "We use the `genSample()` function again to simulate a dataset with multiple features. You can adjust the number of features via the `size` parameter.\n",
    "\n",
    "- The model is still based on: $Y = \\beta_0 + \\beta_1 x_1 + \\beta_2 x_2 + \\dots + \\beta_d x_d + \\varepsilon$\n",
    "- We'll use a fixed seed for reproducibility.\n",
    "- The noise term $\\varepsilon \\sim \\mathcal{N}(0, \\sigma^2)$ adds randomness, simulating real-world measurement error."
   ]
  },
  {
   "cell_type": "code",
   "execution_count": 14,
   "id": "7e347fb6",
   "metadata": {},
   "outputs": [],
   "source": [
    "# Define parameters for synthetic data generation\n",
    "n = 100 # sample size\n",
    "b0 = 2 # real intercept (unobserved)\n",
    "b1 = np.array([3, 7, 20])   # real slope (unobserved) for 3 input features\n",
    "xl, xh = 0, 120 # input range for features\n",
    "sigmae = 30 # standard deviation for error term"
   ]
  },
  {
   "cell_type": "code",
   "execution_count": 15,
   "id": "e14599a5",
   "metadata": {},
   "outputs": [],
   "source": [
    "# Generate synthetic data using the true model and added Gaussian noise\n",
    "(xM,yM,ErM) = genSample(n, b0, b1, sigmae, xl, xh, seedit=199, size=len(b1))\n",
    "x_extra = 1 + ErM   # This variable has no real meaning, just noise centered around 1\n",
    "xM.append(x_extra)  # Now xM has 4 features: [x1, x2, x3, x_extra]\n",
    "yM += xM[-1]        # Modify yM so x_extra appears to influence y"
   ]
  },
  {
   "cell_type": "markdown",
   "id": "d83527b6",
   "metadata": {},
   "source": [
    "### Step 2: Visualize Data\n",
    "\n",
    "We collect the generated features, target variable, and noise into a structured format using a `pandas.DataFrame`."
   ]
  },
  {
   "cell_type": "code",
   "execution_count": 16,
   "id": "944bc446",
   "metadata": {},
   "outputs": [
    {
     "data": {
      "text/html": [
       "<div>\n",
       "<style scoped>\n",
       "    .dataframe tbody tr th:only-of-type {\n",
       "        vertical-align: middle;\n",
       "    }\n",
       "\n",
       "    .dataframe tbody tr th {\n",
       "        vertical-align: top;\n",
       "    }\n",
       "\n",
       "    .dataframe thead th {\n",
       "        text-align: right;\n",
       "    }\n",
       "</style>\n",
       "<table border=\"1\" class=\"dataframe\">\n",
       "  <thead>\n",
       "    <tr style=\"text-align: right;\">\n",
       "      <th></th>\n",
       "      <th>x1</th>\n",
       "      <th>x2</th>\n",
       "      <th>x3</th>\n",
       "      <th>x4</th>\n",
       "      <th>error</th>\n",
       "      <th>y_mult</th>\n",
       "    </tr>\n",
       "  </thead>\n",
       "  <tbody>\n",
       "    <tr>\n",
       "      <th>0</th>\n",
       "      <td>78.575003</td>\n",
       "      <td>113.715871</td>\n",
       "      <td>13.668552</td>\n",
       "      <td>34.242144</td>\n",
       "      <td>33.242144</td>\n",
       "      <td>1374.591433</td>\n",
       "    </tr>\n",
       "    <tr>\n",
       "      <th>1</th>\n",
       "      <td>117.844714</td>\n",
       "      <td>27.185691</td>\n",
       "      <td>89.745699</td>\n",
       "      <td>-8.668335</td>\n",
       "      <td>-9.668335</td>\n",
       "      <td>2322.411282</td>\n",
       "    </tr>\n",
       "    <tr>\n",
       "      <th>2</th>\n",
       "      <td>47.988564</td>\n",
       "      <td>71.330417</td>\n",
       "      <td>73.327127</td>\n",
       "      <td>69.662316</td>\n",
       "      <td>68.662316</td>\n",
       "      <td>2250.145793</td>\n",
       "    </tr>\n",
       "    <tr>\n",
       "      <th>3</th>\n",
       "      <td>101.298312</td>\n",
       "      <td>51.397042</td>\n",
       "      <td>97.163016</td>\n",
       "      <td>-54.363474</td>\n",
       "      <td>-55.363474</td>\n",
       "      <td>2499.207612</td>\n",
       "    </tr>\n",
       "    <tr>\n",
       "      <th>4</th>\n",
       "      <td>55.661082</td>\n",
       "      <td>91.696882</td>\n",
       "      <td>85.542899</td>\n",
       "      <td>-45.022414</td>\n",
       "      <td>-46.022414</td>\n",
       "      <td>2430.674574</td>\n",
       "    </tr>\n",
       "    <tr>\n",
       "      <th>...</th>\n",
       "      <td>...</td>\n",
       "      <td>...</td>\n",
       "      <td>...</td>\n",
       "      <td>...</td>\n",
       "      <td>...</td>\n",
       "      <td>...</td>\n",
       "    </tr>\n",
       "    <tr>\n",
       "      <th>95</th>\n",
       "      <td>8.854235</td>\n",
       "      <td>61.968206</td>\n",
       "      <td>60.400340</td>\n",
       "      <td>20.917828</td>\n",
       "      <td>19.917828</td>\n",
       "      <td>1711.182607</td>\n",
       "    </tr>\n",
       "    <tr>\n",
       "      <th>96</th>\n",
       "      <td>25.821316</td>\n",
       "      <td>81.436553</td>\n",
       "      <td>113.898221</td>\n",
       "      <td>49.849389</td>\n",
       "      <td>48.849389</td>\n",
       "      <td>3026.183015</td>\n",
       "    </tr>\n",
       "    <tr>\n",
       "      <th>97</th>\n",
       "      <td>28.996218</td>\n",
       "      <td>8.222232</td>\n",
       "      <td>1.510316</td>\n",
       "      <td>4.260805</td>\n",
       "      <td>3.260805</td>\n",
       "      <td>184.272200</td>\n",
       "    </tr>\n",
       "    <tr>\n",
       "      <th>98</th>\n",
       "      <td>45.852941</td>\n",
       "      <td>104.255477</td>\n",
       "      <td>104.346202</td>\n",
       "      <td>23.016888</td>\n",
       "      <td>22.016888</td>\n",
       "      <td>3001.304969</td>\n",
       "    </tr>\n",
       "    <tr>\n",
       "      <th>99</th>\n",
       "      <td>52.982361</td>\n",
       "      <td>46.669683</td>\n",
       "      <td>54.960026</td>\n",
       "      <td>47.803412</td>\n",
       "      <td>46.803412</td>\n",
       "      <td>1681.442202</td>\n",
       "    </tr>\n",
       "  </tbody>\n",
       "</table>\n",
       "<p>100 rows × 6 columns</p>\n",
       "</div>"
      ],
      "text/plain": [
       "            x1          x2          x3         x4      error       y_mult\n",
       "0    78.575003  113.715871   13.668552  34.242144  33.242144  1374.591433\n",
       "1   117.844714   27.185691   89.745699  -8.668335  -9.668335  2322.411282\n",
       "2    47.988564   71.330417   73.327127  69.662316  68.662316  2250.145793\n",
       "3   101.298312   51.397042   97.163016 -54.363474 -55.363474  2499.207612\n",
       "4    55.661082   91.696882   85.542899 -45.022414 -46.022414  2430.674574\n",
       "..         ...         ...         ...        ...        ...          ...\n",
       "95    8.854235   61.968206   60.400340  20.917828  19.917828  1711.182607\n",
       "96   25.821316   81.436553  113.898221  49.849389  48.849389  3026.183015\n",
       "97   28.996218    8.222232    1.510316   4.260805   3.260805   184.272200\n",
       "98   45.852941  104.255477  104.346202  23.016888  22.016888  3001.304969\n",
       "99   52.982361   46.669683   54.960026  47.803412  46.803412  1681.442202\n",
       "\n",
       "[100 rows x 6 columns]"
      ]
     },
     "execution_count": 16,
     "metadata": {},
     "output_type": "execute_result"
    }
   ],
   "source": [
    "# Create a structured DataFrame for visual inspection\n",
    "dataM = {'x1': xM[0], 'x2' : xM[1],'x3' : xM[2] ,'x4': xM[3], 'error': ErM, 'y_mult': yM}\n",
    "df_slrM = pd.DataFrame(data=dataM)\n",
    "df_slrM"
   ]
  },
  {
   "cell_type": "markdown",
   "id": "3236e786",
   "metadata": {},
   "source": [
    "### Step 3: Analysis & Interpretation of Regression Results\n",
    "\n",
    "Now that you’ve generated and organized the synthetic dataset, analyze the statistical properties of the regression models and understand the role of each input feature.\n",
    "\n",
    "* a) For the above multi-regression model, estimate the unknown regression coefficients $(\\beta_0,...,\\beta_4)$ using all four features. Also compute the p-values, F-statistic and $R^2$ score for each feature. What do the p-values and F-statistic tell you about which features are truly significant?\n",
    "\n",
    "* b) Fit a multi-regression model only using $(x_2,x_4)$. Estimate the coefficients and determine the p-values, F-statistic and $R^2$ score again. How do the p-values and F-statistic compare with results from part (a)? What does this imply? Are all the features relevant to the model?\n",
    "\n",
    "* c) Fit four seperate single-feature regression models (one for each variable $x_i$). Compare the estimated slopes $\\beta_1$, $\\ldots$, $\\beta_4$ from these single-variable models to those from the multi-variable model in part (a). What do you notice?\n",
    "\n",
    "* d) Compare the answers from (a), (b), (c). What do you observe? Explain.\n",
    "\n",
    "**Hint 1:** Use `LinearRegression()` from `scikit-learn` and create a linear regression object.\n",
    "\n",
    "**Hint 2:** For the p-values and the F-statistic, you can use the scikit-learn command `sklearn.feature_selection.f_regression`\n",
    "\n",
    "scikit documnetation: https://scikit-learn.org/stable/modules/generated/sklearn.feature_selection.f_regression.html"
   ]
  },
  {
   "cell_type": "markdown",
   "id": "99e96660",
   "metadata": {},
   "source": [
    "#### Answer:\n",
    "\n",
    "Here is the answer for part (a) using `statsmodels`, you need to do it with `scikit-learn`."
   ]
  },
  {
   "cell_type": "code",
   "execution_count": 17,
   "id": "3b44c3b6",
   "metadata": {},
   "outputs": [
    {
     "data": {
      "text/html": [
       "<table class=\"simpletable\">\n",
       "<caption>OLS Regression Results</caption>\n",
       "<tr>\n",
       "  <th>Dep. Variable:</th>         <td>y_mult</td>      <th>  R-squared:         </th> <td>   1.000</td> \n",
       "</tr>\n",
       "<tr>\n",
       "  <th>Model:</th>                   <td>OLS</td>       <th>  Adj. R-squared:    </th> <td>   1.000</td> \n",
       "</tr>\n",
       "<tr>\n",
       "  <th>Method:</th>             <td>Least Squares</td>  <th>  F-statistic:       </th> <td>5.952e+31</td>\n",
       "</tr>\n",
       "<tr>\n",
       "  <th>Date:</th>             <td>Tue, 07 Oct 2025</td> <th>  Prob (F-statistic):</th>  <td>  0.00</td>  \n",
       "</tr>\n",
       "<tr>\n",
       "  <th>Time:</th>                 <td>20:04:02</td>     <th>  Log-Likelihood:    </th> <td>  2693.8</td> \n",
       "</tr>\n",
       "<tr>\n",
       "  <th>No. Observations:</th>      <td>   100</td>      <th>  AIC:               </th> <td>  -5378.</td> \n",
       "</tr>\n",
       "<tr>\n",
       "  <th>Df Residuals:</th>          <td>    95</td>      <th>  BIC:               </th> <td>  -5364.</td> \n",
       "</tr>\n",
       "<tr>\n",
       "  <th>Df Model:</th>              <td>     4</td>      <th>                     </th>     <td> </td>    \n",
       "</tr>\n",
       "<tr>\n",
       "  <th>Covariance Type:</th>      <td>nonrobust</td>    <th>                     </th>     <td> </td>    \n",
       "</tr>\n",
       "</table>\n",
       "<table class=\"simpletable\">\n",
       "<tr>\n",
       "    <td></td>       <th>coef</th>     <th>std err</th>      <th>t</th>      <th>P>|t|</th>  <th>[0.025</th>    <th>0.975]</th>  \n",
       "</tr>\n",
       "<tr>\n",
       "  <th>const</th> <td>    1.0000</td> <td> 1.55e-13</td> <td> 6.43e+12</td> <td> 0.000</td> <td>    1.000</td> <td>    1.000</td>\n",
       "</tr>\n",
       "<tr>\n",
       "  <th>x1</th>    <td>    3.0000</td> <td> 1.44e-15</td> <td> 2.08e+15</td> <td> 0.000</td> <td>    3.000</td> <td>    3.000</td>\n",
       "</tr>\n",
       "<tr>\n",
       "  <th>x2</th>    <td>    7.0000</td> <td> 1.37e-15</td> <td>  5.1e+15</td> <td> 0.000</td> <td>    7.000</td> <td>    7.000</td>\n",
       "</tr>\n",
       "<tr>\n",
       "  <th>x3</th>    <td>   20.0000</td> <td> 1.41e-15</td> <td> 1.42e+16</td> <td> 0.000</td> <td>   20.000</td> <td>   20.000</td>\n",
       "</tr>\n",
       "<tr>\n",
       "  <th>x4</th>    <td>    2.0000</td> <td> 1.67e-15</td> <td>  1.2e+15</td> <td> 0.000</td> <td>    2.000</td> <td>    2.000</td>\n",
       "</tr>\n",
       "</table>\n",
       "<table class=\"simpletable\">\n",
       "<tr>\n",
       "  <th>Omnibus:</th>       <td> 5.489</td> <th>  Durbin-Watson:     </th> <td>   1.101</td>\n",
       "</tr>\n",
       "<tr>\n",
       "  <th>Prob(Omnibus):</th> <td> 0.064</td> <th>  Jarque-Bera (JB):  </th> <td>   4.834</td>\n",
       "</tr>\n",
       "<tr>\n",
       "  <th>Skew:</th>          <td>-0.491</td> <th>  Prob(JB):          </th> <td>  0.0892</td>\n",
       "</tr>\n",
       "<tr>\n",
       "  <th>Kurtosis:</th>      <td> 3.441</td> <th>  Cond. No.          </th> <td>    350.</td>\n",
       "</tr>\n",
       "</table><br/><br/>Notes:<br/>[1] Standard Errors assume that the covariance matrix of the errors is correctly specified."
      ],
      "text/latex": [
       "\\begin{center}\n",
       "\\begin{tabular}{lclc}\n",
       "\\toprule\n",
       "\\textbf{Dep. Variable:}    &     y\\_mult      & \\textbf{  R-squared:         } &     1.000   \\\\\n",
       "\\textbf{Model:}            &       OLS        & \\textbf{  Adj. R-squared:    } &     1.000   \\\\\n",
       "\\textbf{Method:}           &  Least Squares   & \\textbf{  F-statistic:       } & 5.952e+31   \\\\\n",
       "\\textbf{Date:}             & Tue, 07 Oct 2025 & \\textbf{  Prob (F-statistic):} &     0.00    \\\\\n",
       "\\textbf{Time:}             &     20:04:02     & \\textbf{  Log-Likelihood:    } &    2693.8   \\\\\n",
       "\\textbf{No. Observations:} &         100      & \\textbf{  AIC:               } &    -5378.   \\\\\n",
       "\\textbf{Df Residuals:}     &          95      & \\textbf{  BIC:               } &    -5364.   \\\\\n",
       "\\textbf{Df Model:}         &           4      & \\textbf{                     } &             \\\\\n",
       "\\textbf{Covariance Type:}  &    nonrobust     & \\textbf{                     } &             \\\\\n",
       "\\bottomrule\n",
       "\\end{tabular}\n",
       "\\begin{tabular}{lcccccc}\n",
       "               & \\textbf{coef} & \\textbf{std err} & \\textbf{t} & \\textbf{P$> |$t$|$} & \\textbf{[0.025} & \\textbf{0.975]}  \\\\\n",
       "\\midrule\n",
       "\\textbf{const} &       1.0000  &     1.55e-13     &  6.43e+12  &         0.000        &        1.000    &        1.000     \\\\\n",
       "\\textbf{x1}    &       3.0000  &     1.44e-15     &  2.08e+15  &         0.000        &        3.000    &        3.000     \\\\\n",
       "\\textbf{x2}    &       7.0000  &     1.37e-15     &   5.1e+15  &         0.000        &        7.000    &        7.000     \\\\\n",
       "\\textbf{x3}    &      20.0000  &     1.41e-15     &  1.42e+16  &         0.000        &       20.000    &       20.000     \\\\\n",
       "\\textbf{x4}    &       2.0000  &     1.67e-15     &   1.2e+15  &         0.000        &        2.000    &        2.000     \\\\\n",
       "\\bottomrule\n",
       "\\end{tabular}\n",
       "\\begin{tabular}{lclc}\n",
       "\\textbf{Omnibus:}       &  5.489 & \\textbf{  Durbin-Watson:     } &    1.101  \\\\\n",
       "\\textbf{Prob(Omnibus):} &  0.064 & \\textbf{  Jarque-Bera (JB):  } &    4.834  \\\\\n",
       "\\textbf{Skew:}          & -0.491 & \\textbf{  Prob(JB):          } &   0.0892  \\\\\n",
       "\\textbf{Kurtosis:}      &  3.441 & \\textbf{  Cond. No.          } &     350.  \\\\\n",
       "\\bottomrule\n",
       "\\end{tabular}\n",
       "%\\caption{OLS Regression Results}\n",
       "\\end{center}\n",
       "\n",
       "Notes: \\newline\n",
       " [1] Standard Errors assume that the covariance matrix of the errors is correctly specified."
      ],
      "text/plain": [
       "<class 'statsmodels.iolib.summary.Summary'>\n",
       "\"\"\"\n",
       "                            OLS Regression Results                            \n",
       "==============================================================================\n",
       "Dep. Variable:                 y_mult   R-squared:                       1.000\n",
       "Model:                            OLS   Adj. R-squared:                  1.000\n",
       "Method:                 Least Squares   F-statistic:                 5.952e+31\n",
       "Date:                Tue, 07 Oct 2025   Prob (F-statistic):               0.00\n",
       "Time:                        20:04:02   Log-Likelihood:                 2693.8\n",
       "No. Observations:                 100   AIC:                            -5378.\n",
       "Df Residuals:                      95   BIC:                            -5364.\n",
       "Df Model:                           4                                         \n",
       "Covariance Type:            nonrobust                                         \n",
       "==============================================================================\n",
       "                 coef    std err          t      P>|t|      [0.025      0.975]\n",
       "------------------------------------------------------------------------------\n",
       "const          1.0000   1.55e-13   6.43e+12      0.000       1.000       1.000\n",
       "x1             3.0000   1.44e-15   2.08e+15      0.000       3.000       3.000\n",
       "x2             7.0000   1.37e-15    5.1e+15      0.000       7.000       7.000\n",
       "x3            20.0000   1.41e-15   1.42e+16      0.000      20.000      20.000\n",
       "x4             2.0000   1.67e-15    1.2e+15      0.000       2.000       2.000\n",
       "==============================================================================\n",
       "Omnibus:                        5.489   Durbin-Watson:                   1.101\n",
       "Prob(Omnibus):                  0.064   Jarque-Bera (JB):                4.834\n",
       "Skew:                          -0.491   Prob(JB):                       0.0892\n",
       "Kurtosis:                       3.441   Cond. No.                         350.\n",
       "==============================================================================\n",
       "\n",
       "Notes:\n",
       "[1] Standard Errors assume that the covariance matrix of the errors is correctly specified.\n",
       "\"\"\""
      ]
     },
     "execution_count": 17,
     "metadata": {},
     "output_type": "execute_result"
    }
   ],
   "source": [
    "# using pandas\n",
    "Xm = df_slrM[[\"x1\", \"x2\", \"x3\", \"x4\"]]\n",
    "Ym = df_slrM[\"y_mult\"]\n",
    "Xm = sm.add_constant(Xm) ## let's add an intercept (beta_0) to our model\n",
    "\n",
    "# Note the difference in argument order\n",
    "model = sm.OLS(Ym, Xm).fit()\n",
    "y_pred_OLS = model.predict(Xm) # make the predictions using SAME train data\n",
    "\n",
    "# Print out the statistics\n",
    "model.summary()"
   ]
  },
  {
   "cell_type": "code",
   "execution_count": 18,
   "id": "d4c3b1ee",
   "metadata": {},
   "outputs": [
    {
     "name": "stdout",
     "output_type": "stream",
     "text": [
      "\n",
      "=== Question A: Model with all four features (x1, x2, x3, x4) ===\n",
      "\n",
      "                            OLS Regression Results                            \n",
      "==============================================================================\n",
      "Dep. Variable:                 y_mult   R-squared:                       1.000\n",
      "Model:                            OLS   Adj. R-squared:                  1.000\n",
      "Method:                 Least Squares   F-statistic:                 5.952e+31\n",
      "Date:                Tue, 07 Oct 2025   Prob (F-statistic):               0.00\n",
      "Time:                        20:04:02   Log-Likelihood:                 2693.8\n",
      "No. Observations:                 100   AIC:                            -5378.\n",
      "Df Residuals:                      95   BIC:                            -5364.\n",
      "Df Model:                           4                                         \n",
      "Covariance Type:            nonrobust                                         \n",
      "==============================================================================\n",
      "                 coef    std err          t      P>|t|      [0.025      0.975]\n",
      "------------------------------------------------------------------------------\n",
      "const          1.0000   1.55e-13   6.43e+12      0.000       1.000       1.000\n",
      "x1             3.0000   1.44e-15   2.08e+15      0.000       3.000       3.000\n",
      "x2             7.0000   1.37e-15    5.1e+15      0.000       7.000       7.000\n",
      "x3            20.0000   1.41e-15   1.42e+16      0.000      20.000      20.000\n",
      "x4             2.0000   1.67e-15    1.2e+15      0.000       2.000       2.000\n",
      "==============================================================================\n",
      "Omnibus:                        5.489   Durbin-Watson:                   1.101\n",
      "Prob(Omnibus):                  0.064   Jarque-Bera (JB):                4.834\n",
      "Skew:                          -0.491   Prob(JB):                       0.0892\n",
      "Kurtosis:                       3.441   Cond. No.                         350.\n",
      "==============================================================================\n",
      "\n",
      "Notes:\n",
      "[1] Standard Errors assume that the covariance matrix of the errors is correctly specified.\n"
     ]
    }
   ],
   "source": [
    "## TODO:\n",
    "\n",
    "# Import necessary libraries\n",
    "from sklearn.linear_model import LinearRegression\n",
    "from sklearn.feature_selection import f_regression\n",
    "\n",
    "\n",
    "#Question A : \n",
    "\n",
    "X_a = sm.add_constant(df_slrM[['x1', 'x2', 'x3', 'x4']]) \n",
    "y_a = df_slrM['y_mult']\n",
    "\n",
    "model_a = sm.OLS(y_a, X_a).fit()\n",
    "print(\"\\n=== Question A: Model with all four features (x1, x2, x3, x4) ===\\n\")\n",
    "print(model_a.summary())\n",
    "\n",
    "\n",
    "# All p-values = 0.000 → every variable is statistically significant.\n",
    "# R² = 1.0 → The model fits the data perfectly\n",
    "# F-statistic = very high, Prob(F-statistic) = 0.00 → The model is globally significant. \n"
   ]
  },
  {
   "cell_type": "code",
   "execution_count": 19,
   "id": "5f847ea3",
   "metadata": {},
   "outputs": [
    {
     "name": "stdout",
     "output_type": "stream",
     "text": [
      "\n",
      "=== Question B: Model with only x2 and x4 ===\n",
      "\n",
      "                            OLS Regression Results                            \n",
      "==============================================================================\n",
      "Dep. Variable:                 y_mult   R-squared:                       0.116\n",
      "Model:                            OLS   Adj. R-squared:                  0.098\n",
      "Method:                 Least Squares   F-statistic:                     6.382\n",
      "Date:                Tue, 07 Oct 2025   Prob (F-statistic):            0.00249\n",
      "Time:                        20:04:03   Log-Likelihood:                -799.88\n",
      "No. Observations:                 100   AIC:                             1606.\n",
      "Df Residuals:                      97   BIC:                             1614.\n",
      "Df Model:                           2                                         \n",
      "Covariance Type:            nonrobust                                         \n",
      "==============================================================================\n",
      "                 coef    std err          t      P>|t|      [0.025      0.975]\n",
      "------------------------------------------------------------------------------\n",
      "const       1381.2745    150.683      9.167      0.000    1082.211    1680.338\n",
      "x2             7.2112      2.018      3.573      0.001       3.205      11.217\n",
      "x4             0.1822      2.446      0.074      0.941      -4.672       5.037\n",
      "==============================================================================\n",
      "Omnibus:                       60.495   Durbin-Watson:                   2.338\n",
      "Prob(Omnibus):                  0.000   Jarque-Bera (JB):                7.325\n",
      "Skew:                          -0.072   Prob(JB):                       0.0257\n",
      "Kurtosis:                       1.682   Cond. No.                         154.\n",
      "==============================================================================\n",
      "\n",
      "Notes:\n",
      "[1] Standard Errors assume that the covariance matrix of the errors is correctly specified.\n"
     ]
    }
   ],
   "source": [
    "#Question B : \n",
    "\n",
    "X_b = df_slrM[['x2', 'x4']]\n",
    "X_b = sm.add_constant(X_b) \n",
    "y_b = df_slrM['y_mult']\n",
    "\n",
    "model_b = sm.OLS(y_b, X_b).fit()\n",
    "\n",
    "print(\"\\n=== Question B: Model with only x2 and x4 ===\\n\")\n",
    "print(model_b.summary())\n",
    "\n",
    "\n",
    "#In part (b), only x2 remains significant.\n",
    "#The p-value of x4 = 0.941 means it has no real effect, it’s just noise.\n",
    "#The model is still statistically valid (p(F) = 0.00249), but weaker than before.\n",
    "#So, not all features are relevant. Only x₂ really helps to predict y."
   ]
  },
  {
   "cell_type": "code",
   "execution_count": null,
   "id": "c0bd9bd7",
   "metadata": {},
   "outputs": [
    {
     "name": "stdout",
     "output_type": "stream",
     "text": [
      "\n",
      "=== Comparison: Single vs Multi-Variable Models ===\n",
      "\n",
      "  Feature  Coef (Single Var)  Coef (Multi Var)\n",
      "0      x1             3.8526               3.0\n",
      "1      x2             7.2076               7.0\n",
      "2      x3            20.1300              20.0\n",
      "3      x4            -0.0278               2.0\n"
     ]
    }
   ],
   "source": [
    "import statsmodels.api as sm\n",
    "\n",
    "#Question C :\n",
    "\n",
    "\n",
    "features = [\"x1\", \"x2\", \"x3\", \"x4\"]\n",
    "res = []\n",
    "\n",
    "for f in features:\n",
    "    X_single = sm.add_constant(df_slrM[[f]])   \n",
    "    model_single = sm.OLS(Ym, X_single).fit()\n",
    "    \n",
    "    res.append({\n",
    "        \"Feature\": f,\n",
    "        \"Coef (Single Var)\": round(model_single.params[f], 4),\n",
    "        \"Coef (Multi Var)\": round(model_a.params[f], 4)\n",
    "    })\n",
    "\n",
    "comparison_df = pd.DataFrame(res)\n",
    "\n",
    "print(\"\\n=== Comparison: Single vs Multi-Variable Models ===\\n\")\n",
    "print(comparison_df)\n",
    "\n",
    "\n",
    "#The real relationship comes from x1, x2, and x3.\n",
    "#while x4 doesn’t add useful information to the model."
   ]
  },
  {
   "cell_type": "markdown",
   "id": "6ae80bff",
   "metadata": {},
   "source": [
    "## Question D"
   ]
  },
  {
   "cell_type": "markdown",
   "id": "33cfad15",
   "metadata": {},
   "source": [
    "Comparing (a), (b), and (c) shows that only x1, x2, and x3 have true effects on y, while x4 is not significant and should be excluded from the regression model."
   ]
  },
  {
   "cell_type": "markdown",
   "id": "1bdb775a",
   "metadata": {},
   "source": [
    "## 📝 Exercise 3: Univariate Linear Regression with Real Network Data"
   ]
  },
  {
   "cell_type": "markdown",
   "id": "1123a933",
   "metadata": {},
   "source": [
    "In this final exercise, we will apply a simple linear regression to a real-world dataset related to network traffic. \n",
    "\n",
    "The goal is to:\n",
    "- Load and explore a dataset\n",
    "- Select one numerical feature to predict a target variable\n",
    "- Train a linear regression model using **scikit-learn**\n",
    "- Visualize and interpret the results\n",
    "\n",
    "We will use tools provided in the course library and analyze actual features from network measurements."
   ]
  },
  {
   "cell_type": "markdown",
   "id": "384737be",
   "metadata": {},
   "source": [
    "### Dataset Overview: Requet Dataset\n",
    "\n",
    "We use a dataset of QoE prediction from [Requet dataset](https://github.com/Wimnet/RequetDataSet) — a public dataset designed for **real-time QoE detection** on encrypted YouTube traffic.\n",
    "- The goal is to predict QoE indicators, such as video resolution, based on traffic characteristics.\n",
    "- The dataset has already been cleaned and simplified for this lab exercise."
   ]
  },
  {
   "cell_type": "markdown",
   "id": "d4600901",
   "metadata": {},
   "source": [
    "### Step 1: Import Libraries\n",
    "\n",
    "Start by importing the libraries needed for data handling, modeling and visualization."
   ]
  },
  {
   "cell_type": "code",
   "execution_count": 21,
   "id": "44716aea",
   "metadata": {},
   "outputs": [],
   "source": [
    "# Import necessary libraries\n",
    "import pandas as pd # For dataframes (tables)\n",
    "import numpy as np\n",
    "import matplotlib.pyplot as plt # For plots\n",
    "import sklearn.linear_model\n",
    "from sklearn.linear_model import LinearRegression\n",
    "from sklearn.metrics import mean_squared_error, r2_score"
   ]
  },
  {
   "cell_type": "markdown",
   "id": "85318f72",
   "metadata": {},
   "source": [
    "### Step 2: Load the Dataset\n",
    "\n",
    "Make sure your dataset is accessible. This example assumes a file named `network_data.csv` is in the working directory. \n",
    "\n",
    "* a) Replace the filename with your actual path to the dataset."
   ]
  },
  {
   "cell_type": "markdown",
   "id": "ddddc88b",
   "metadata": {},
   "source": [
    "##### Answer:"
   ]
  },
  {
   "cell_type": "code",
   "execution_count": 22,
   "id": "322f8f9d",
   "metadata": {},
   "outputs": [
    {
     "ename": "PermissionError",
     "evalue": "[Errno 13] Permission denied: '...'",
     "output_type": "error",
     "traceback": [
      "\u001b[31m---------------------------------------------------------------------------\u001b[39m",
      "\u001b[31mPermissionError\u001b[39m                           Traceback (most recent call last)",
      "\u001b[36mCell\u001b[39m\u001b[36m \u001b[39m\u001b[32mIn[22]\u001b[39m\u001b[32m, line 3\u001b[39m\n\u001b[32m      1\u001b[39m \u001b[38;5;66;03m# TODO:\u001b[39;00m\n\u001b[32m      2\u001b[39m filename = \u001b[33m\"\u001b[39m\u001b[33m...\u001b[39m\u001b[33m\"\u001b[39m\n\u001b[32m----> \u001b[39m\u001b[32m3\u001b[39m df = \u001b[43mpd\u001b[49m\u001b[43m.\u001b[49m\u001b[43mread_csv\u001b[49m\u001b[43m(\u001b[49m\u001b[43mfilename\u001b[49m\u001b[43m)\u001b[49m\n",
      "\u001b[36mFile \u001b[39m\u001b[32mc:\\Users\\david\\AppData\\Local\\Programs\\Python\\Python313\\Lib\\site-packages\\pandas\\io\\parsers\\readers.py:1026\u001b[39m, in \u001b[36mread_csv\u001b[39m\u001b[34m(filepath_or_buffer, sep, delimiter, header, names, index_col, usecols, dtype, engine, converters, true_values, false_values, skipinitialspace, skiprows, skipfooter, nrows, na_values, keep_default_na, na_filter, verbose, skip_blank_lines, parse_dates, infer_datetime_format, keep_date_col, date_parser, date_format, dayfirst, cache_dates, iterator, chunksize, compression, thousands, decimal, lineterminator, quotechar, quoting, doublequote, escapechar, comment, encoding, encoding_errors, dialect, on_bad_lines, delim_whitespace, low_memory, memory_map, float_precision, storage_options, dtype_backend)\u001b[39m\n\u001b[32m   1013\u001b[39m kwds_defaults = _refine_defaults_read(\n\u001b[32m   1014\u001b[39m     dialect,\n\u001b[32m   1015\u001b[39m     delimiter,\n\u001b[32m   (...)\u001b[39m\u001b[32m   1022\u001b[39m     dtype_backend=dtype_backend,\n\u001b[32m   1023\u001b[39m )\n\u001b[32m   1024\u001b[39m kwds.update(kwds_defaults)\n\u001b[32m-> \u001b[39m\u001b[32m1026\u001b[39m \u001b[38;5;28;01mreturn\u001b[39;00m \u001b[43m_read\u001b[49m\u001b[43m(\u001b[49m\u001b[43mfilepath_or_buffer\u001b[49m\u001b[43m,\u001b[49m\u001b[43m \u001b[49m\u001b[43mkwds\u001b[49m\u001b[43m)\u001b[49m\n",
      "\u001b[36mFile \u001b[39m\u001b[32mc:\\Users\\david\\AppData\\Local\\Programs\\Python\\Python313\\Lib\\site-packages\\pandas\\io\\parsers\\readers.py:620\u001b[39m, in \u001b[36m_read\u001b[39m\u001b[34m(filepath_or_buffer, kwds)\u001b[39m\n\u001b[32m    617\u001b[39m _validate_names(kwds.get(\u001b[33m\"\u001b[39m\u001b[33mnames\u001b[39m\u001b[33m\"\u001b[39m, \u001b[38;5;28;01mNone\u001b[39;00m))\n\u001b[32m    619\u001b[39m \u001b[38;5;66;03m# Create the parser.\u001b[39;00m\n\u001b[32m--> \u001b[39m\u001b[32m620\u001b[39m parser = \u001b[43mTextFileReader\u001b[49m\u001b[43m(\u001b[49m\u001b[43mfilepath_or_buffer\u001b[49m\u001b[43m,\u001b[49m\u001b[43m \u001b[49m\u001b[43m*\u001b[49m\u001b[43m*\u001b[49m\u001b[43mkwds\u001b[49m\u001b[43m)\u001b[49m\n\u001b[32m    622\u001b[39m \u001b[38;5;28;01mif\u001b[39;00m chunksize \u001b[38;5;129;01mor\u001b[39;00m iterator:\n\u001b[32m    623\u001b[39m     \u001b[38;5;28;01mreturn\u001b[39;00m parser\n",
      "\u001b[36mFile \u001b[39m\u001b[32mc:\\Users\\david\\AppData\\Local\\Programs\\Python\\Python313\\Lib\\site-packages\\pandas\\io\\parsers\\readers.py:1620\u001b[39m, in \u001b[36mTextFileReader.__init__\u001b[39m\u001b[34m(self, f, engine, **kwds)\u001b[39m\n\u001b[32m   1617\u001b[39m     \u001b[38;5;28mself\u001b[39m.options[\u001b[33m\"\u001b[39m\u001b[33mhas_index_names\u001b[39m\u001b[33m\"\u001b[39m] = kwds[\u001b[33m\"\u001b[39m\u001b[33mhas_index_names\u001b[39m\u001b[33m\"\u001b[39m]\n\u001b[32m   1619\u001b[39m \u001b[38;5;28mself\u001b[39m.handles: IOHandles | \u001b[38;5;28;01mNone\u001b[39;00m = \u001b[38;5;28;01mNone\u001b[39;00m\n\u001b[32m-> \u001b[39m\u001b[32m1620\u001b[39m \u001b[38;5;28mself\u001b[39m._engine = \u001b[38;5;28;43mself\u001b[39;49m\u001b[43m.\u001b[49m\u001b[43m_make_engine\u001b[49m\u001b[43m(\u001b[49m\u001b[43mf\u001b[49m\u001b[43m,\u001b[49m\u001b[43m \u001b[49m\u001b[38;5;28;43mself\u001b[39;49m\u001b[43m.\u001b[49m\u001b[43mengine\u001b[49m\u001b[43m)\u001b[49m\n",
      "\u001b[36mFile \u001b[39m\u001b[32mc:\\Users\\david\\AppData\\Local\\Programs\\Python\\Python313\\Lib\\site-packages\\pandas\\io\\parsers\\readers.py:1880\u001b[39m, in \u001b[36mTextFileReader._make_engine\u001b[39m\u001b[34m(self, f, engine)\u001b[39m\n\u001b[32m   1878\u001b[39m     \u001b[38;5;28;01mif\u001b[39;00m \u001b[33m\"\u001b[39m\u001b[33mb\u001b[39m\u001b[33m\"\u001b[39m \u001b[38;5;129;01mnot\u001b[39;00m \u001b[38;5;129;01min\u001b[39;00m mode:\n\u001b[32m   1879\u001b[39m         mode += \u001b[33m\"\u001b[39m\u001b[33mb\u001b[39m\u001b[33m\"\u001b[39m\n\u001b[32m-> \u001b[39m\u001b[32m1880\u001b[39m \u001b[38;5;28mself\u001b[39m.handles = \u001b[43mget_handle\u001b[49m\u001b[43m(\u001b[49m\n\u001b[32m   1881\u001b[39m \u001b[43m    \u001b[49m\u001b[43mf\u001b[49m\u001b[43m,\u001b[49m\n\u001b[32m   1882\u001b[39m \u001b[43m    \u001b[49m\u001b[43mmode\u001b[49m\u001b[43m,\u001b[49m\n\u001b[32m   1883\u001b[39m \u001b[43m    \u001b[49m\u001b[43mencoding\u001b[49m\u001b[43m=\u001b[49m\u001b[38;5;28;43mself\u001b[39;49m\u001b[43m.\u001b[49m\u001b[43moptions\u001b[49m\u001b[43m.\u001b[49m\u001b[43mget\u001b[49m\u001b[43m(\u001b[49m\u001b[33;43m\"\u001b[39;49m\u001b[33;43mencoding\u001b[39;49m\u001b[33;43m\"\u001b[39;49m\u001b[43m,\u001b[49m\u001b[43m \u001b[49m\u001b[38;5;28;43;01mNone\u001b[39;49;00m\u001b[43m)\u001b[49m\u001b[43m,\u001b[49m\n\u001b[32m   1884\u001b[39m \u001b[43m    \u001b[49m\u001b[43mcompression\u001b[49m\u001b[43m=\u001b[49m\u001b[38;5;28;43mself\u001b[39;49m\u001b[43m.\u001b[49m\u001b[43moptions\u001b[49m\u001b[43m.\u001b[49m\u001b[43mget\u001b[49m\u001b[43m(\u001b[49m\u001b[33;43m\"\u001b[39;49m\u001b[33;43mcompression\u001b[39;49m\u001b[33;43m\"\u001b[39;49m\u001b[43m,\u001b[49m\u001b[43m \u001b[49m\u001b[38;5;28;43;01mNone\u001b[39;49;00m\u001b[43m)\u001b[49m\u001b[43m,\u001b[49m\n\u001b[32m   1885\u001b[39m \u001b[43m    \u001b[49m\u001b[43mmemory_map\u001b[49m\u001b[43m=\u001b[49m\u001b[38;5;28;43mself\u001b[39;49m\u001b[43m.\u001b[49m\u001b[43moptions\u001b[49m\u001b[43m.\u001b[49m\u001b[43mget\u001b[49m\u001b[43m(\u001b[49m\u001b[33;43m\"\u001b[39;49m\u001b[33;43mmemory_map\u001b[39;49m\u001b[33;43m\"\u001b[39;49m\u001b[43m,\u001b[49m\u001b[43m \u001b[49m\u001b[38;5;28;43;01mFalse\u001b[39;49;00m\u001b[43m)\u001b[49m\u001b[43m,\u001b[49m\n\u001b[32m   1886\u001b[39m \u001b[43m    \u001b[49m\u001b[43mis_text\u001b[49m\u001b[43m=\u001b[49m\u001b[43mis_text\u001b[49m\u001b[43m,\u001b[49m\n\u001b[32m   1887\u001b[39m \u001b[43m    \u001b[49m\u001b[43merrors\u001b[49m\u001b[43m=\u001b[49m\u001b[38;5;28;43mself\u001b[39;49m\u001b[43m.\u001b[49m\u001b[43moptions\u001b[49m\u001b[43m.\u001b[49m\u001b[43mget\u001b[49m\u001b[43m(\u001b[49m\u001b[33;43m\"\u001b[39;49m\u001b[33;43mencoding_errors\u001b[39;49m\u001b[33;43m\"\u001b[39;49m\u001b[43m,\u001b[49m\u001b[43m \u001b[49m\u001b[33;43m\"\u001b[39;49m\u001b[33;43mstrict\u001b[39;49m\u001b[33;43m\"\u001b[39;49m\u001b[43m)\u001b[49m\u001b[43m,\u001b[49m\n\u001b[32m   1888\u001b[39m \u001b[43m    \u001b[49m\u001b[43mstorage_options\u001b[49m\u001b[43m=\u001b[49m\u001b[38;5;28;43mself\u001b[39;49m\u001b[43m.\u001b[49m\u001b[43moptions\u001b[49m\u001b[43m.\u001b[49m\u001b[43mget\u001b[49m\u001b[43m(\u001b[49m\u001b[33;43m\"\u001b[39;49m\u001b[33;43mstorage_options\u001b[39;49m\u001b[33;43m\"\u001b[39;49m\u001b[43m,\u001b[49m\u001b[43m \u001b[49m\u001b[38;5;28;43;01mNone\u001b[39;49;00m\u001b[43m)\u001b[49m\u001b[43m,\u001b[49m\n\u001b[32m   1889\u001b[39m \u001b[43m\u001b[49m\u001b[43m)\u001b[49m\n\u001b[32m   1890\u001b[39m \u001b[38;5;28;01massert\u001b[39;00m \u001b[38;5;28mself\u001b[39m.handles \u001b[38;5;129;01mis\u001b[39;00m \u001b[38;5;129;01mnot\u001b[39;00m \u001b[38;5;28;01mNone\u001b[39;00m\n\u001b[32m   1891\u001b[39m f = \u001b[38;5;28mself\u001b[39m.handles.handle\n",
      "\u001b[36mFile \u001b[39m\u001b[32mc:\\Users\\david\\AppData\\Local\\Programs\\Python\\Python313\\Lib\\site-packages\\pandas\\io\\common.py:873\u001b[39m, in \u001b[36mget_handle\u001b[39m\u001b[34m(path_or_buf, mode, encoding, compression, memory_map, is_text, errors, storage_options)\u001b[39m\n\u001b[32m    868\u001b[39m \u001b[38;5;28;01melif\u001b[39;00m \u001b[38;5;28misinstance\u001b[39m(handle, \u001b[38;5;28mstr\u001b[39m):\n\u001b[32m    869\u001b[39m     \u001b[38;5;66;03m# Check whether the filename is to be opened in binary mode.\u001b[39;00m\n\u001b[32m    870\u001b[39m     \u001b[38;5;66;03m# Binary mode does not support 'encoding' and 'newline'.\u001b[39;00m\n\u001b[32m    871\u001b[39m     \u001b[38;5;28;01mif\u001b[39;00m ioargs.encoding \u001b[38;5;129;01mand\u001b[39;00m \u001b[33m\"\u001b[39m\u001b[33mb\u001b[39m\u001b[33m\"\u001b[39m \u001b[38;5;129;01mnot\u001b[39;00m \u001b[38;5;129;01min\u001b[39;00m ioargs.mode:\n\u001b[32m    872\u001b[39m         \u001b[38;5;66;03m# Encoding\u001b[39;00m\n\u001b[32m--> \u001b[39m\u001b[32m873\u001b[39m         handle = \u001b[38;5;28;43mopen\u001b[39;49m\u001b[43m(\u001b[49m\n\u001b[32m    874\u001b[39m \u001b[43m            \u001b[49m\u001b[43mhandle\u001b[49m\u001b[43m,\u001b[49m\n\u001b[32m    875\u001b[39m \u001b[43m            \u001b[49m\u001b[43mioargs\u001b[49m\u001b[43m.\u001b[49m\u001b[43mmode\u001b[49m\u001b[43m,\u001b[49m\n\u001b[32m    876\u001b[39m \u001b[43m            \u001b[49m\u001b[43mencoding\u001b[49m\u001b[43m=\u001b[49m\u001b[43mioargs\u001b[49m\u001b[43m.\u001b[49m\u001b[43mencoding\u001b[49m\u001b[43m,\u001b[49m\n\u001b[32m    877\u001b[39m \u001b[43m            \u001b[49m\u001b[43merrors\u001b[49m\u001b[43m=\u001b[49m\u001b[43merrors\u001b[49m\u001b[43m,\u001b[49m\n\u001b[32m    878\u001b[39m \u001b[43m            \u001b[49m\u001b[43mnewline\u001b[49m\u001b[43m=\u001b[49m\u001b[33;43m\"\u001b[39;49m\u001b[33;43m\"\u001b[39;49m\u001b[43m,\u001b[49m\n\u001b[32m    879\u001b[39m \u001b[43m        \u001b[49m\u001b[43m)\u001b[49m\n\u001b[32m    880\u001b[39m     \u001b[38;5;28;01melse\u001b[39;00m:\n\u001b[32m    881\u001b[39m         \u001b[38;5;66;03m# Binary mode\u001b[39;00m\n\u001b[32m    882\u001b[39m         handle = \u001b[38;5;28mopen\u001b[39m(handle, ioargs.mode)\n",
      "\u001b[31mPermissionError\u001b[39m: [Errno 13] Permission denied: '...'"
     ]
    }
   ],
   "source": [
    "# TODO:\n",
    "filename = \"...\"\n",
    "df = pd.read_csv(filename)"
   ]
  },
  {
   "cell_type": "code",
   "execution_count": null,
   "id": "e78d58b1",
   "metadata": {},
   "outputs": [],
   "source": [
    "# Preview the dataset\n",
    "df=df.rename(columns={'label_num':'Resolution'})\n",
    "df.head()"
   ]
  },
  {
   "cell_type": "code",
   "execution_count": null,
   "id": "736e9f9f",
   "metadata": {},
   "outputs": [],
   "source": [
    "# Get some insight on data\n",
    "df.info(verbose=True)"
   ]
  },
  {
   "cell_type": "markdown",
   "id": "2253ef40",
   "metadata": {},
   "source": [
    "### Step 3: Select Features for Univariate Linear Regression\n",
    "\n",
    "**Goal**: Build a univariate linear regression model to predict the value of `Resolution` based on a single input feature: `KBytesReceived`.\n",
    "\n",
    "In supervised learning, we need to distinguish between:\n",
    "\n",
    "* **Independent variable $X$** – the input feature used to predict an outcome : `KBytesReceived`\n",
    "* **Dependent variable $y$** – the value we are trying to predict (also called the target): `Resolution`"
   ]
  },
  {
   "cell_type": "code",
   "execution_count": null,
   "id": "d89a0d02",
   "metadata": {},
   "outputs": [],
   "source": [
    "# Selecting one feature and target\n",
    "X = df[['KBytesReceived']]   # Independent variable (needs to be 2D for scikit-learn)\n",
    "y = df['Resolution']         # Dependent variable"
   ]
  },
  {
   "cell_type": "markdown",
   "id": "44db9c7b",
   "metadata": {},
   "source": [
    "### Step 4: Visualizing the Data with Scatter Plot\n",
    "\n",
    "Before training the model, it's helpful to visualize the relationship between the input feature and the target variable. A scatter plot lets us see if a linear relationship might exist between `KBytesReceived` and `Resolution`.\n",
    "\n",
    "**Optional:** Learn more about plotting with Matplotlib see [mathplotlib documentation](https://matplotlib.org/tutorials/introductory/lifecycle.html).\n",
    "\n",
    "* b) Create a scatter plot showing `KBytesReceived` vs `Resolution` and save it as \"scatter_plot.pdf\" under the working directory."
   ]
  },
  {
   "cell_type": "markdown",
   "id": "2fd7e0a6",
   "metadata": {},
   "source": [
    "#### Answer:"
   ]
  },
  {
   "cell_type": "code",
   "execution_count": null,
   "id": "b44a1f35",
   "metadata": {},
   "outputs": [],
   "source": [
    "## TODO:"
   ]
  },
  {
   "cell_type": "markdown",
   "id": "7e2dae12",
   "metadata": {},
   "source": [
    "### Step 5: Manually Creating a Simple Regression Model\n",
    "\n",
    "Before using a machine learning library, let’s build a very simple regression model \"by hand\" to understand the concept.\n",
    "\n",
    "* c) Without using any machine learning libraries, define a simple linear model to predict `Resolution` from `KBytesReceived`. Choose a slope value of 1."
   ]
  },
  {
   "cell_type": "markdown",
   "id": "e49ec796",
   "metadata": {},
   "source": [
    "#### Answer:"
   ]
  },
  {
   "cell_type": "code",
   "execution_count": null,
   "id": "3f74204f",
   "metadata": {},
   "outputs": [],
   "source": [
    "## TODO:"
   ]
  },
  {
   "cell_type": "markdown",
   "id": "4777f3e9",
   "metadata": {},
   "source": [
    "* d) Plot the resulting line over your earlier scatter plot to visually assess the fit. Save the new plot as `scatter_plot2.pdf`"
   ]
  },
  {
   "cell_type": "markdown",
   "id": "dd5b4a69",
   "metadata": {},
   "source": [
    "#### Answer:"
   ]
  },
  {
   "cell_type": "code",
   "execution_count": null,
   "id": "2a92ea0d",
   "metadata": {},
   "outputs": [],
   "source": [
    "## TODO:"
   ]
  },
  {
   "cell_type": "markdown",
   "id": "a983865b",
   "metadata": {},
   "source": [
    "### Step 6: Train a Linear Regression Model Using Scikit-learn\n",
    "\n",
    "Now that you've tried defining a model manually, let's use supervised learning to train a regression model that automatically finds the best slope (and intercept) to fit the data.\n",
    "\n",
    "We'll use **Ordinary Least Squares (OLS)** — the most common type of linear regression — from `scikit-learn`.\n",
    "\n",
    "* e) Create the regression model. \n",
    "    * **Hint:** Use `LinearRegression()` from `sklearn.linear_model`."
   ]
  },
  {
   "cell_type": "markdown",
   "id": "af6ead72",
   "metadata": {},
   "source": [
    "#### Answer:"
   ]
  },
  {
   "cell_type": "code",
   "execution_count": null,
   "id": "27410099",
   "metadata": {},
   "outputs": [],
   "source": [
    "## TODO:"
   ]
  },
  {
   "cell_type": "markdown",
   "id": "fbf6c0c5",
   "metadata": {},
   "source": [
    "* f) Fit the model using your full dataset. \n",
    "    * **Hint:** Use `.fit(...)`."
   ]
  },
  {
   "cell_type": "markdown",
   "id": "e476d9f6",
   "metadata": {},
   "source": [
    "#### Answer:"
   ]
  },
  {
   "cell_type": "code",
   "execution_count": null,
   "id": "ddd37d06",
   "metadata": {},
   "outputs": [],
   "source": [
    "## TODO:"
   ]
  },
  {
   "cell_type": "markdown",
   "id": "88c7d7e3",
   "metadata": {},
   "source": [
    "* g) Predict the output for a range of input values. \n",
    "    * **Hint:** Use `.predict(...)` on your model."
   ]
  },
  {
   "cell_type": "markdown",
   "id": "2b3a0f03",
   "metadata": {},
   "source": [
    "#### Answer:"
   ]
  },
  {
   "cell_type": "code",
   "execution_count": null,
   "id": "fb0c39be",
   "metadata": {},
   "outputs": [],
   "source": [
    "## TODO:"
   ]
  },
  {
   "cell_type": "markdown",
   "id": "538dbe1b",
   "metadata": {},
   "source": [
    "* h) Plot the model’s predictions on top of your scatter plot. \n",
    "    * **Hint:** Use `ax.plot(...)` and add a legend with `ax.legend()`."
   ]
  },
  {
   "cell_type": "markdown",
   "id": "3a3310dc",
   "metadata": {},
   "source": [
    "#### Answer:"
   ]
  },
  {
   "cell_type": "code",
   "execution_count": null,
   "id": "bb0fa605",
   "metadata": {},
   "outputs": [],
   "source": [
    "## TODO:"
   ]
  },
  {
   "cell_type": "markdown",
   "id": "c91eb956",
   "metadata": {},
   "source": [
    "* i) Print the learned model parameters: the intercept and slope. \n",
    "    * **Hint:** Use `.intercept_` and `.coef_ attributes` of the model."
   ]
  },
  {
   "cell_type": "markdown",
   "id": "86b487bc",
   "metadata": {},
   "source": [
    "#### Answer:"
   ]
  },
  {
   "cell_type": "code",
   "execution_count": null,
   "id": "bc4d1133",
   "metadata": {},
   "outputs": [],
   "source": [
    "## TODO:"
   ]
  },
  {
   "cell_type": "markdown",
   "id": "7cd19fb4",
   "metadata": {},
   "source": [
    "* j) Save the final figure as `final_figure.pdf`. \n",
    "    * **Hint:** Use `fig.savefig(...)`."
   ]
  },
  {
   "cell_type": "markdown",
   "id": "447efa26",
   "metadata": {},
   "source": [
    "#### Answer:"
   ]
  },
  {
   "cell_type": "code",
   "execution_count": null,
   "id": "4ea0be37",
   "metadata": {},
   "outputs": [],
   "source": [
    "## TODO:"
   ]
  }
 ],
 "metadata": {
  "kernelspec": {
   "display_name": "Python 3",
   "language": "python",
   "name": "python3"
  },
  "language_info": {
   "codemirror_mode": {
    "name": "ipython",
    "version": 3
   },
   "file_extension": ".py",
   "mimetype": "text/x-python",
   "name": "python",
   "nbconvert_exporter": "python",
   "pygments_lexer": "ipython3",
   "version": "3.13.2"
  }
 },
 "nbformat": 4,
 "nbformat_minor": 5
}
