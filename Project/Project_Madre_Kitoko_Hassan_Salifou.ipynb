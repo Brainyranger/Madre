{
 "cells": [
  {
   "cell_type": "markdown",
   "id": "dd484df2",
   "metadata": {},
   "source": [
    "# Project MADRE UM5IN051 : Network Intrusion Detection Using the CICIDS 2017 Dataset by David Kitoko and Moubarak Hassan Salifou"
   ]
  },
  {
   "cell_type": "markdown",
   "id": "b91a438f",
   "metadata": {},
   "source": [
    "## Introduction\n",
    "\n",
    "The CICIDS 2017 dataset (Canadian Institute for Cybersecurity Intrusion Detection System 2017) was created to provide a realistic base for analyzing network traffic.\n",
    "It includes both normal traffic and several types of cyberattacks such as DoS, DDoS, Brute Force, PortScan, and Web Attacks.\n",
    "This dataset is widely used to train and test intrusion detection models using machine learning and deep learning techniques."
   ]
  },
  {
   "cell_type": "markdown",
   "id": "e1fba147",
   "metadata": {},
   "source": [
    "## Problem understanding\n",
    "\n",
    "Cybersecurity has become a critical concern as network attacks grow increasingly frequent and sophisticated. The main challenge is to automatically detect abnormal or malicious network behavior. The objective of this project is to develop a classification model capable of distinguishing between normal and attack traffic, and potentially identifying the specific type of attack. However, the dataset used presents some limitations: it is imbalanced and only represents five days of activity. In real-world applications, classification errors can be costly. False negatives may let attacks go unnoticed, while false positives can interrupt legitimate network operations. Additionally, models trained on this dataset may face challenges related to computational resources, latency, and interpretability when applied to real-time intrusion detection."
   ]
  },
  {
   "cell_type": "markdown",
   "id": "1fb98525",
   "metadata": {},
   "source": [
    "## Data collection\n",
    "\n",
    "The CICIDS 2017 dataset was first created by the Canadian Institute for Cybersecurity (CIC) at the University of New Brunswick (UNB).  \n",
    "For this project, the dataset was obtained from Kaggle (https://www.kaggle.com/datasets/chethuhn/network-intrusion-dataset), where a public version is available for research and learning purposes.\n",
    "\n",
    "The dataset contains network traffic collected over five days (July 3-7, 2017) in a controlled research environment created by the Canadian Institute for Cybersecurity.\n",
    "A realistic network with several computers, servers, and routers was set up to simulate normal user activity and different types of cyberattacks, such as DoS, DDoS, Brute Force, PortScan, Botnet, and Web Attacks.\n",
    "During this period, all network packets were captured and processed using CICFlowMeter, a tool that converts raw packet captures into summarized network flows.\n",
    "Each row in the dataset represents one of these flows, identified by its destination port and various statistical features.\n",
    "In total, about 80-85 features describe each flow, including metrics such as packet counts, flow duration, data rate, and size statistics.\n",
    "\n",
    "![CICIDS2017 Network Flow Features](https://www.researchgate.net/publication/329758083/figure/tbl1/AS:705248024879106@1545155640395/Network-flow-features-of-the-CICIDS2017-dataset.png)\n",
    "\n",
    "Most of these features are numerical, such as:\n",
    "\n",
    "- Flow Duration - how long the connection lasted  \n",
    "- Total Fwd Packets - number of packets sent from source to destination  \n",
    "- Bwd Packet Length Mean - average size of packets received  \n",
    "- Fwd Packets/s - packets sent per second  \n",
    "- Flow IAT Mean - average time between packets  \n",
    "\n",
    "The dataset also contains a few categorical features, like:\n",
    "\n",
    "-  Destination Port - represents the destination port for the network flow    \n",
    "- Label - indicates whether the connection is normal or an attack type  \n",
    "\n",
    ">  Note: In this public Kaggle version, the original source and destination IP addresses are not included. Instead, flows are identified by their destination port, which may correspond to multiple devices or services on the network. \n"
   ]
  }
 ],
 "metadata": {
  "language_info": {
   "name": "python"
  }
 },
 "nbformat": 4,
 "nbformat_minor": 5
}
